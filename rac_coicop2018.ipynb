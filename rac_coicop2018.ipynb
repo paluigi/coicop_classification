{
 "cells": [
  {
   "cell_type": "markdown",
   "metadata": {},
   "source": [
    "# RAC for COICOP 2018 classification"
   ]
  },
  {
   "cell_type": "markdown",
   "metadata": {},
   "source": [
    "This notebooks compares the performance of different LLMs for Retrieval Augmented Classification (RAC) oriented to classify products from web scraping into COICOP 2018 subclasses."
   ]
  },
  {
   "cell_type": "code",
   "execution_count": 1,
   "metadata": {},
   "outputs": [],
   "source": [
    "from datetime import datetime\n",
    "from collections import Counter\n",
    "\n",
    "import pandas as pd\n",
    "from qdrant_client import QdrantClient\n",
    "from qdrant_client import models as qdrant_models\n",
    "from sentence_transformers import SentenceTransformer\n",
    "\n",
    "from outlines import models, generate\n",
    "from openai import AsyncOpenAI\n",
    "from outlines.models.openai import OpenAIConfig"
   ]
  },
  {
   "cell_type": "code",
   "execution_count": 2,
   "metadata": {},
   "outputs": [],
   "source": [
    "def count_value_occurrences(my_list):\n",
    "    \"\"\"Counts the occurrences of each value in a list and returns a dictionary.\n",
    "\n",
    "    Args:\n",
    "        my_list: The input list.\n",
    "\n",
    "    Returns:\n",
    "        A dictionary where keys are the unique values in the list (in the order they first appear)\n",
    "        and values are the number of times each value appears.\n",
    "    \"\"\"\n",
    "\n",
    "    # Use Counter for efficient counting:\n",
    "    value_counts = Counter(my_list)\n",
    "\n",
    "    # Preserve order of first appearance using a list comprehension:\n",
    "    ordered_keys = sorted(list(set(my_list)))\n",
    "    \n",
    "    # Create the ordered dictionary:\n",
    "    ordered_dict = {key: value_counts[key] for key in ordered_keys}\n",
    "\n",
    "    return ordered_dict"
   ]
  },
  {
   "cell_type": "markdown",
   "metadata": {},
   "source": [
    "## Load data"
   ]
  },
  {
   "cell_type": "code",
   "execution_count": 3,
   "metadata": {},
   "outputs": [],
   "source": [
    "grid_df = pd.read_csv(\"results/consolidated_coicop2018_2025-03-16.csv\")\n",
    "test_df = pd.read_csv(\"manual_labels/manual_labels_coicop2018.csv\")"
   ]
  },
  {
   "cell_type": "code",
   "execution_count": 4,
   "metadata": {},
   "outputs": [],
   "source": [
    "test_dict = test_df.to_dict(orient=\"records\")\n",
    "grid_dict = grid_df.to_dict(orient=\"records\")"
   ]
  },
  {
   "cell_type": "markdown",
   "metadata": {},
   "source": [
    "Load data in Qdrant"
   ]
  },
  {
   "cell_type": "code",
   "execution_count": 5,
   "metadata": {},
   "outputs": [],
   "source": [
    "client = QdrantClient(\":memory:\")"
   ]
  },
  {
   "cell_type": "code",
   "execution_count": 6,
   "metadata": {},
   "outputs": [],
   "source": [
    "encoder = SentenceTransformer(\"paraphrase-multilingual-mpnet-base-v2\")"
   ]
  },
  {
   "cell_type": "code",
   "execution_count": 7,
   "metadata": {},
   "outputs": [
    {
     "data": {
      "text/plain": [
       "True"
      ]
     },
     "execution_count": 7,
     "metadata": {},
     "output_type": "execute_result"
    }
   ],
   "source": [
    "client.create_collection(\n",
    "    collection_name=\"coicop2018\",\n",
    "    vectors_config=qdrant_models.VectorParams(\n",
    "        size=encoder.get_sentence_embedding_dimension(),  # Vector size is defined by used model\n",
    "        distance=qdrant_models.Distance.DOT, # Try with Cosine as well\n",
    "    ),\n",
    ")"
   ]
  },
  {
   "cell_type": "code",
   "execution_count": 8,
   "metadata": {},
   "outputs": [
    {
     "name": "stdout",
     "output_type": "stream",
     "text": [
      "CPU times: user 3min 15s, sys: 759 ms, total: 3min 16s\n",
      "Wall time: 3min 16s\n"
     ]
    },
    {
     "name": "stderr",
     "output_type": "stream",
     "text": [
      "/home/luigi/Documents/dev/coicop_classification/.venv/lib/python3.12/site-packages/qdrant_client/qdrant_client.py:2517: UserWarning: Local mode is not recommended for collections with more than 20,000 points. Current collection contains 34451 points. Consider using Qdrant in Docker or Qdrant Cloud for better performance with large datasets.\n",
      "  return self._client.upload_points(\n"
     ]
    }
   ],
   "source": [
    "%%time\n",
    "client.upload_points(\n",
    "    collection_name=\"coicop2018\",\n",
    "    points=[\n",
    "        qdrant_models.PointStruct(\n",
    "            id=idx+1, vector=encoder.encode(doc[\"title\"]).tolist(), payload=doc\n",
    "        )\n",
    "        for idx, doc in enumerate(grid_dict)\n",
    "    ],\n",
    ")"
   ]
  },
  {
   "cell_type": "markdown",
   "metadata": {},
   "source": [
    "Create an index for the COICOP code to facilitate grouped search (only for Qdrant server)"
   ]
  },
  {
   "cell_type": "code",
   "execution_count": null,
   "metadata": {},
   "outputs": [],
   "source": [
    "%%time\n",
    "_ = client.create_payload_index(\n",
    "    collection_name=\"coicop2018\",\n",
    "    field_name=\"code\",\n",
    "    field_schema=qdrant_models.PayloadSchemaType.KEYWORD,\n",
    ")"
   ]
  },
  {
   "cell_type": "markdown",
   "metadata": {},
   "source": [
    "# Search strategies"
   ]
  },
  {
   "cell_type": "markdown",
   "metadata": {},
   "source": [
    "### 12 results from product - category combination"
   ]
  },
  {
   "cell_type": "code",
   "execution_count": 9,
   "metadata": {},
   "outputs": [
    {
     "name": "stdout",
     "output_type": "stream",
     "text": [
      "Processing item 1 out of 4993\n",
      "Processing item 501 out of 4993\n",
      "Processing item 1001 out of 4993\n",
      "Processing item 1501 out of 4993\n",
      "Processing item 2001 out of 4993\n",
      "Processing item 2501 out of 4993\n",
      "Processing item 3001 out of 4993\n",
      "Processing item 3501 out of 4993\n",
      "Processing item 4001 out of 4993\n",
      "Processing item 4501 out of 4993\n",
      "Search accuracy: 77.75%\n",
      "CPU times: user 1h 23min 26s, sys: 1min 53s, total: 1h 25min 20s\n",
      "Wall time: 5min 46s\n"
     ]
    }
   ],
   "source": [
    "%%time\n",
    "correct = 0\n",
    "n_correct_method1 = []\n",
    "for i, item in enumerate(test_dict):\n",
    "    if i % 500 == 0:\n",
    "        print(f\"Processing item {i+1} out of {len(test_dict)}\")\n",
    "    search_result = client.query_points(\n",
    "        collection_name=\"coicop2018\",\n",
    "        query=encoder.encode(\"{} {}\".format(item[\"name\"], item[\"category\"])).tolist(),\n",
    "        limit=12\n",
    "    )\n",
    "\n",
    "    search_dict = {\n",
    "        p.payload.get(\"title\"): p.payload.get(\"code\")\n",
    "        for p in search_result.points\n",
    "    }\n",
    "    if item[\"code\"] in search_dict.values():\n",
    "        correct += 1\n",
    "    n_correct_method1.append(list(search_dict.values()).count(item[\"code\"]))\n",
    "\n",
    "print(\"Search accuracy: {:.2f}%\".format((correct / len(test_dict))*100))"
   ]
  },
  {
   "cell_type": "code",
   "execution_count": 10,
   "metadata": {},
   "outputs": [
    {
     "data": {
      "text/plain": [
       "{0: 1111,\n",
       " 1: 565,\n",
       " 2: 432,\n",
       " 3: 433,\n",
       " 4: 305,\n",
       " 5: 345,\n",
       " 6: 412,\n",
       " 7: 459,\n",
       " 8: 462,\n",
       " 9: 235,\n",
       " 10: 146,\n",
       " 11: 60,\n",
       " 12: 28}"
      ]
     },
     "execution_count": 10,
     "metadata": {},
     "output_type": "execute_result"
    }
   ],
   "source": [
    "count_value_occurrences(n_correct_method1)"
   ]
  },
  {
   "cell_type": "markdown",
   "metadata": {},
   "source": [
    "### 12 results from  category - product combination"
   ]
  },
  {
   "cell_type": "code",
   "execution_count": 11,
   "metadata": {},
   "outputs": [
    {
     "name": "stdout",
     "output_type": "stream",
     "text": [
      "Processing item 1 out of 4993\n",
      "Processing item 501 out of 4993\n",
      "Processing item 1001 out of 4993\n",
      "Processing item 1501 out of 4993\n",
      "Processing item 2001 out of 4993\n",
      "Processing item 2501 out of 4993\n",
      "Processing item 3001 out of 4993\n",
      "Processing item 3501 out of 4993\n",
      "Processing item 4001 out of 4993\n",
      "Processing item 4501 out of 4993\n",
      "Search accuracy: 76.73%\n",
      "CPU times: user 1h 21min 27s, sys: 1min 53s, total: 1h 23min 21s\n",
      "Wall time: 5min 30s\n"
     ]
    }
   ],
   "source": [
    "%%time\n",
    "correct = 0\n",
    "n_correct_method2 = []\n",
    "\n",
    "for i, item in enumerate(test_dict):\n",
    "    if i % 500 == 0:\n",
    "        print(f\"Processing item {i+1} out of {len(test_dict)}\")\n",
    "\n",
    "    search_result = client.query_points(\n",
    "        collection_name=\"coicop2018\",\n",
    "        query=encoder.encode(\"{} {}\".format(item[\"category\"], item[\"name\"])).tolist(),\n",
    "        limit=12\n",
    "    )\n",
    "\n",
    "    search_dict = {\n",
    "        p.payload.get(\"title\"): p.payload.get(\"code\")\n",
    "        for p in search_result.points\n",
    "    }\n",
    "    if item[\"code\"] in search_dict.values():\n",
    "        correct += 1\n",
    "    n_correct_method2.append(list(search_dict.values()).count(item[\"code\"]))\n",
    "\n",
    "print(\"Search accuracy: {:.2f}%\".format((correct / len(test_dict))*100))"
   ]
  },
  {
   "cell_type": "code",
   "execution_count": 12,
   "metadata": {},
   "outputs": [
    {
     "data": {
      "text/plain": [
       "{0: 1162,\n",
       " 1: 559,\n",
       " 2: 438,\n",
       " 3: 437,\n",
       " 4: 339,\n",
       " 5: 308,\n",
       " 6: 384,\n",
       " 7: 427,\n",
       " 8: 452,\n",
       " 9: 264,\n",
       " 10: 135,\n",
       " 11: 55,\n",
       " 12: 33}"
      ]
     },
     "execution_count": 12,
     "metadata": {},
     "output_type": "execute_result"
    }
   ],
   "source": [
    "count_value_occurrences(n_correct_method2)"
   ]
  },
  {
   "cell_type": "markdown",
   "metadata": {},
   "source": [
    "### 6 results from category  and 6 from product"
   ]
  },
  {
   "cell_type": "code",
   "execution_count": 13,
   "metadata": {},
   "outputs": [
    {
     "name": "stdout",
     "output_type": "stream",
     "text": [
      "Processing item 1 out of 4993\n",
      "Processing item 501 out of 4993\n",
      "Processing item 1001 out of 4993\n",
      "Processing item 1501 out of 4993\n",
      "Processing item 2001 out of 4993\n",
      "Processing item 2501 out of 4993\n",
      "Processing item 3001 out of 4993\n",
      "Processing item 3501 out of 4993\n",
      "Processing item 4001 out of 4993\n",
      "Processing item 4501 out of 4993\n",
      "Search accuracy: 71.78%\n",
      "CPU times: user 2h 29min 2s, sys: 3min 27s, total: 2h 32min 29s\n",
      "Wall time: 9min 52s\n"
     ]
    }
   ],
   "source": [
    "%%time\n",
    "correct = 0\n",
    "n_correct_method3 = []\n",
    "\n",
    "for i, item in enumerate(test_dict):\n",
    "    if i % 500 == 0:\n",
    "        print(f\"Processing item {i+1} out of {len(test_dict)}\")\n",
    "\n",
    "    search_result = client.query_points(\n",
    "        collection_name=\"coicop2018\",\n",
    "        query=encoder.encode(item[\"name\"]).tolist(),\n",
    "        limit=6\n",
    "    )\n",
    "\n",
    "    search_dict = {\n",
    "        p.payload.get(\"title\"): p.payload.get(\"code\")\n",
    "        for p in search_result.points\n",
    "    }\n",
    "\n",
    "    search_result2 = client.query_points(\n",
    "        collection_name=\"coicop2018\",\n",
    "        query=encoder.encode(item[\"category\"]).tolist(),\n",
    "        limit=6\n",
    "    )\n",
    "\n",
    "    search_dict2 = {\n",
    "        p.payload.get(\"title\"): p.payload.get(\"code\")\n",
    "        for p in search_result2.points\n",
    "    }\n",
    "\n",
    "    search_dict.update(search_dict2)\n",
    "\n",
    "    if item[\"code\"] in search_dict.values():\n",
    "        correct += 1\n",
    "    n_correct_method3.append(list(search_dict.values()).count(item[\"code\"]))\n",
    "\n",
    "print(\"Search accuracy: {:.2f}%\".format((correct / len(test_dict))*100))"
   ]
  },
  {
   "cell_type": "code",
   "execution_count": 14,
   "metadata": {},
   "outputs": [
    {
     "data": {
      "text/plain": [
       "{0: 1409,\n",
       " 1: 560,\n",
       " 2: 539,\n",
       " 3: 678,\n",
       " 4: 469,\n",
       " 5: 398,\n",
       " 6: 467,\n",
       " 7: 217,\n",
       " 8: 133,\n",
       " 9: 72,\n",
       " 10: 32,\n",
       " 11: 12,\n",
       " 12: 7}"
      ]
     },
     "execution_count": 14,
     "metadata": {},
     "output_type": "execute_result"
    }
   ],
   "source": [
    "count_value_occurrences(n_correct_method3)"
   ]
  },
  {
   "cell_type": "markdown",
   "metadata": {},
   "source": [
    "## 12 results from grouped search on category - product combination"
   ]
  },
  {
   "cell_type": "code",
   "execution_count": 15,
   "metadata": {},
   "outputs": [
    {
     "name": "stdout",
     "output_type": "stream",
     "text": [
      "Processing item 1 out of 4993\n",
      "Processing item 501 out of 4993\n",
      "Processing item 1001 out of 4993\n",
      "Processing item 1501 out of 4993\n",
      "Processing item 2001 out of 4993\n",
      "Processing item 2501 out of 4993\n",
      "Processing item 3001 out of 4993\n",
      "Processing item 3501 out of 4993\n",
      "Processing item 4001 out of 4993\n",
      "Processing item 4501 out of 4993\n",
      "Search accuracy: 78.41%\n",
      "CPU times: user 3h 19min 12s, sys: 1min 24s, total: 3h 20min 37s\n",
      "Wall time: 52min 36s\n"
     ]
    }
   ],
   "source": [
    "%%time\n",
    "correct = 0\n",
    "n_correct_method4 = []\n",
    "for i, item in enumerate(test_dict):\n",
    "    if i % 500 == 0:\n",
    "        print(f\"Processing item {i+1} out of {len(test_dict)}\")\n",
    "    search_result = client.query_points_groups(\n",
    "        collection_name=\"coicop2018\",\n",
    "        query=encoder.encode(\"{} {}\".format(item[\"name\"], item[\"category\"])).tolist(),\n",
    "        group_by=\"code\",\n",
    "        limit=6,\n",
    "        group_size=2,\n",
    "    )\n",
    "    res = []\n",
    "\n",
    "    for gr in search_result.groups:\n",
    "        res.extend(gr.hits)\n",
    "\n",
    "    search_dict = {\n",
    "        s.payload.get(\"title\"): s.payload.get(\"code\")\n",
    "        for s in res\n",
    "    }\n",
    "    if item[\"code\"] in search_dict.values():\n",
    "        correct += 1\n",
    "    n_correct_method4.append(list(search_dict.values()).count(item[\"code\"]))\n",
    "\n",
    "print(\"Search accuracy: {:.2f}%\".format((correct / len(test_dict))*100))"
   ]
  },
  {
   "cell_type": "code",
   "execution_count": 16,
   "metadata": {},
   "outputs": [
    {
     "data": {
      "text/plain": [
       "{0: 1078, 2: 3915}"
      ]
     },
     "execution_count": 16,
     "metadata": {},
     "output_type": "execute_result"
    }
   ],
   "source": [
    "count_value_occurrences(n_correct_method4)"
   ]
  },
  {
   "cell_type": "markdown",
   "metadata": {},
   "source": [
    "## Analysis of missed retrievals"
   ]
  },
  {
   "cell_type": "code",
   "execution_count": 17,
   "metadata": {},
   "outputs": [],
   "source": [
    "retrieval_dict = []\n",
    "\n",
    "for i, item in enumerate(test_dict):\n",
    "    new_item = {**item, \"prod_cat_search\": n_correct_method1[i]>0,\n",
    "                \"cat_prod_search\": n_correct_method2[i]>0,\n",
    "                \"separate_search\": n_correct_method3[i]>0,\n",
    "                \"group_search\": n_correct_method4[i]>0}\n",
    "    retrieval_dict.append(new_item)"
   ]
  },
  {
   "cell_type": "code",
   "execution_count": 18,
   "metadata": {},
   "outputs": [],
   "source": [
    "retrieval_df = pd.DataFrame(retrieval_dict)"
   ]
  },
  {
   "cell_type": "code",
   "execution_count": 19,
   "metadata": {},
   "outputs": [],
   "source": [
    "# Group by 'code' and calculate the share of False for each '_search' column\n",
    "search_columns = [col for col in retrieval_df.columns if col.endswith('_search')]\n",
    "missed_retrieval_df = retrieval_df.groupby('code')[search_columns].apply(lambda x: (x < 1).mean())\n",
    "\n",
    "# Add a column with the count of records for each code\n",
    "missed_retrieval_df['count'] = retrieval_df.groupby('code').size()"
   ]
  },
  {
   "cell_type": "markdown",
   "metadata": {},
   "source": [
    "Salve search results for analysis of missed retrievals by COICOP subclass."
   ]
  },
  {
   "cell_type": "code",
   "execution_count": 20,
   "metadata": {},
   "outputs": [],
   "source": [
    "missed_retrieval_df.to_csv(\"analysis/missed_retrieval_{}.csv\".format(datetime.now().strftime(\"%Y-%m-%d_%H-%M-%S\")))"
   ]
  },
  {
   "cell_type": "markdown",
   "metadata": {},
   "source": [
    "# RAC models"
   ]
  },
  {
   "cell_type": "markdown",
   "metadata": {},
   "source": [
    "LLM template, including 12 search examples with the product name-category combination (~1% less successful that the grouped search, but ~6 times faster)"
   ]
  },
  {
   "cell_type": "code",
   "execution_count": 21,
   "metadata": {},
   "outputs": [],
   "source": [
    "prompt_template = \"\"\"You are an expert data curator. You are given a product name and the commercial category where it belongs.\n",
    "Your task is to find the most similar match from a list of possible options. \n",
    "If no option is suitable, you should output \"none of the above\". The options are:\n",
    "\n",
    "1. {options[0]}\n",
    "2. {options[1]}\n",
    "3. {options[2]}\n",
    "4. {options[3]}\n",
    "5. {options[4]}\n",
    "6. {options[5]}\n",
    "7. {options[6]}\n",
    "8. {options[7]}\n",
    "9. {options[8]}\n",
    "10. {options[9]}\n",
    "11. {options[10]}\n",
    "12. {options[11]}\n",
    "13. none of the above\n",
    "\n",
    "Your output should only be the exact text of one of the options above, and nothing else.\n",
    "\n",
    "The product name is: {name}\n",
    "The commercial category where the product belongs is: {category}\n",
    "The most similar option is:\"\"\""
   ]
  },
  {
   "cell_type": "markdown",
   "metadata": {},
   "source": [
    "## SmolLM2"
   ]
  },
  {
   "cell_type": "code",
   "execution_count": 22,
   "metadata": {},
   "outputs": [],
   "source": [
    "llmclient = AsyncOpenAI(\n",
    "    api_key=\"none\",\n",
    "    base_url='http://localhost:11434/v1/',\n",
    ")\n",
    "config = OpenAIConfig(model=\"smollm2:135m\", temperature=0)\n",
    "model = models.openai(llmclient, config)"
   ]
  },
  {
   "cell_type": "code",
   "execution_count": 23,
   "metadata": {},
   "outputs": [
    {
     "name": "stdout",
     "output_type": "stream",
     "text": [
      "Processing item 1 out of 4993\n",
      "Processing item 501 out of 4993\n",
      "Processing item 1001 out of 4993\n",
      "Processing item 1501 out of 4993\n",
      "Processing item 2001 out of 4993\n",
      "Processing item 2501 out of 4993\n",
      "Processing item 3001 out of 4993\n",
      "Processing item 3501 out of 4993\n",
      "Processing item 4001 out of 4993\n",
      "Processing item 4501 out of 4993\n",
      "CPU times: user 2h 33min 3s, sys: 1min 29s, total: 2h 34min 33s\n",
      "Wall time: 49min 20s\n"
     ]
    }
   ],
   "source": [
    "%%time\n",
    "processed_items = []\n",
    "for i, item in enumerate(test_dict):\n",
    "    if i % 500 == 0:\n",
    "        print(f\"Processing item {i+1} out of {len(test_dict)}\")\n",
    "    search_result = client.query_points(\n",
    "        collection_name=\"coicop2018\",\n",
    "        query=encoder.encode(\"{} {}\".format(item[\"name\"], item[\"category\"])).tolist(),\n",
    "        limit=12\n",
    "    )\n",
    "\n",
    "    search_dict = {\n",
    "        p.payload.get(\"title\"): p.payload.get(\"code\")\n",
    "        for p in search_result.points\n",
    "    }\n",
    "    correct_option = item[\"code\"] in search_dict.values()\n",
    "    correct_n = list(search_dict.values()).count(item[\"code\"])\n",
    "    options = list(search_dict.keys()) + [\"none of the above\"]\n",
    "    generator = generate.choice(model, options)\n",
    "    res = generator(prompt_template.format(options=options, name=item[\"name\"], category=item[\"category\"]))\n",
    "    processed_items.append({**item, \"prediction\": search_dict.get(res), \"correct_option\": correct_option, \"correct_n\": correct_n})\n",
    "    "
   ]
  },
  {
   "cell_type": "code",
   "execution_count": 24,
   "metadata": {},
   "outputs": [],
   "source": [
    "results_df = pd.DataFrame(processed_items)"
   ]
  },
  {
   "cell_type": "code",
   "execution_count": 25,
   "metadata": {},
   "outputs": [],
   "source": [
    "results_df[\"match\"] = results_df[\"prediction\"] == results_df[\"code\"]"
   ]
  },
  {
   "cell_type": "code",
   "execution_count": 26,
   "metadata": {},
   "outputs": [
    {
     "name": "stdout",
     "output_type": "stream",
     "text": [
      "Search accuracy: 77.75%\n",
      "LLM accuracy: 0.92%\n"
     ]
    }
   ],
   "source": [
    "print(\"Search accuracy: {:.2f}%\".format((results_df[\"correct_option\"].sum() / len(results_df))*100))\n",
    "print(\"LLM accuracy: {:.2f}%\".format((results_df[\"match\"].sum() / len(results_df))*100))"
   ]
  },
  {
   "cell_type": "code",
   "execution_count": 27,
   "metadata": {},
   "outputs": [],
   "source": [
    "results_df.to_csv(\"results/rac_coicop2018_smollm2-135m_{}.csv\".format(datetime.now().strftime(\"%Y-%m-%d_%H%M%S\")), index=False)"
   ]
  },
  {
   "cell_type": "markdown",
   "metadata": {},
   "source": [
    "## Qwen 2.5 "
   ]
  },
  {
   "cell_type": "code",
   "execution_count": 52,
   "metadata": {},
   "outputs": [],
   "source": [
    "config = OpenAIConfig(model=\"qwen2.5:3b-instruct\", temperature=0)\n",
    "model = models.openai(llmclient, config)"
   ]
  },
  {
   "cell_type": "code",
   "execution_count": 53,
   "metadata": {},
   "outputs": [
    {
     "name": "stdout",
     "output_type": "stream",
     "text": [
      "Processing item 1 out of 4993\n",
      "Processing item 501 out of 4993\n",
      "Processing item 1001 out of 4993\n",
      "Processing item 1501 out of 4993\n",
      "Processing item 2001 out of 4993\n",
      "Processing item 2501 out of 4993\n",
      "Processing item 3001 out of 4993\n",
      "Processing item 3501 out of 4993\n",
      "Processing item 4001 out of 4993\n",
      "Processing item 4501 out of 4993\n",
      "CPU times: user 2h 33min 12s, sys: 1min 32s, total: 2h 34min 44s\n",
      "Wall time: 1h 23min 48s\n"
     ]
    }
   ],
   "source": [
    "%%time\n",
    "processed_items = []\n",
    "for i, item in enumerate(test_dict):\n",
    "    if i % 500 == 0:\n",
    "        print(f\"Processing item {i+1} out of {len(test_dict)}\")\n",
    "    search_result = client.query_points(\n",
    "        collection_name=\"coicop2018\",\n",
    "        query=encoder.encode(\"{} {}\".format(item[\"name\"], item[\"category\"])).tolist(),\n",
    "        limit=12\n",
    "    )\n",
    "\n",
    "    search_dict = {\n",
    "        p.payload.get(\"title\"): p.payload.get(\"code\")\n",
    "        for p in search_result.points\n",
    "    }\n",
    "    correct_option = item[\"code\"] in search_dict.values()\n",
    "    correct_n = list(search_dict.values()).count(item[\"code\"])\n",
    "    options = list(search_dict.keys()) + [\"none of the above\"]\n",
    "    generator = generate.choice(model, options)\n",
    "    res = generator(prompt_template.format(options=options, name=item[\"name\"], category=item[\"category\"]))\n",
    "    processed_items.append({**item, \"prediction\": search_dict.get(res), \"correct_option\": correct_option, \"correct_n\": correct_n})\n",
    "    "
   ]
  },
  {
   "cell_type": "code",
   "execution_count": 54,
   "metadata": {},
   "outputs": [],
   "source": [
    "results_df = pd.DataFrame(processed_items)"
   ]
  },
  {
   "cell_type": "code",
   "execution_count": 55,
   "metadata": {},
   "outputs": [],
   "source": [
    "results_df[\"match\"] = results_df[\"prediction\"] == results_df[\"code\"]"
   ]
  },
  {
   "cell_type": "code",
   "execution_count": 56,
   "metadata": {},
   "outputs": [
    {
     "name": "stdout",
     "output_type": "stream",
     "text": [
      "Search accuracy: 77.75%\n",
      "LLM accuracy: 39.34%\n"
     ]
    }
   ],
   "source": [
    "print(\"Search accuracy: {:.2f}%\".format((results_df[\"correct_option\"].sum() / len(results_df))*100))\n",
    "print(\"LLM accuracy: {:.2f}%\".format((results_df[\"match\"].sum() / len(results_df))*100))"
   ]
  },
  {
   "cell_type": "code",
   "execution_count": 57,
   "metadata": {},
   "outputs": [],
   "source": [
    "results_df.to_csv(\"results/rac_coicop2018_qwen25-3b_{}.csv\".format(datetime.now().strftime(\"%Y-%m-%d_%H%M%S\")), index=False)"
   ]
  },
  {
   "cell_type": "markdown",
   "metadata": {},
   "source": [
    "## LLama 3.2"
   ]
  },
  {
   "cell_type": "code",
   "execution_count": 34,
   "metadata": {},
   "outputs": [],
   "source": [
    "config = OpenAIConfig(model=\"llama3.2:1b\", temperature=0)\n",
    "model = models.openai(llmclient, config)"
   ]
  },
  {
   "cell_type": "code",
   "execution_count": 35,
   "metadata": {},
   "outputs": [
    {
     "name": "stdout",
     "output_type": "stream",
     "text": [
      "Processing item 1 out of 4993\n",
      "Processing item 501 out of 4993\n",
      "Processing item 1001 out of 4993\n",
      "Processing item 1501 out of 4993\n",
      "Processing item 2001 out of 4993\n",
      "Processing item 2501 out of 4993\n",
      "Processing item 3001 out of 4993\n",
      "Processing item 3501 out of 4993\n",
      "Processing item 4001 out of 4993\n",
      "Processing item 4501 out of 4993\n",
      "CPU times: user 2h 32min 47s, sys: 1min 29s, total: 2h 34min 17s\n",
      "Wall time: 59min 8s\n"
     ]
    }
   ],
   "source": [
    "%%time\n",
    "processed_items = []\n",
    "for i, item in enumerate(test_dict):\n",
    "    if i % 500 == 0:\n",
    "        print(f\"Processing item {i+1} out of {len(test_dict)}\")\n",
    "    search_result = client.query_points(\n",
    "        collection_name=\"coicop2018\",\n",
    "        query=encoder.encode(\"{} {}\".format(item[\"name\"], item[\"category\"])).tolist(),\n",
    "        limit=12\n",
    "    )\n",
    "\n",
    "    search_dict = {\n",
    "        p.payload.get(\"title\"): p.payload.get(\"code\")\n",
    "        for p in search_result.points\n",
    "    }\n",
    "    correct_option = item[\"code\"] in search_dict.values()\n",
    "    correct_n = list(search_dict.values()).count(item[\"code\"])\n",
    "    options = list(search_dict.keys()) + [\"none of the above\"]\n",
    "    generator = generate.choice(model, options)\n",
    "    res = generator(prompt_template.format(options=options, name=item[\"name\"], category=item[\"category\"]))\n",
    "    processed_items.append({**item, \"prediction\": search_dict.get(res), \"correct_option\": correct_option, \"correct_n\": correct_n})\n",
    "    "
   ]
  },
  {
   "cell_type": "code",
   "execution_count": 36,
   "metadata": {},
   "outputs": [],
   "source": [
    "results_df = pd.DataFrame(processed_items)"
   ]
  },
  {
   "cell_type": "code",
   "execution_count": 37,
   "metadata": {},
   "outputs": [],
   "source": [
    "results_df[\"match\"] = results_df[\"prediction\"] == results_df[\"code\"]"
   ]
  },
  {
   "cell_type": "code",
   "execution_count": 38,
   "metadata": {},
   "outputs": [
    {
     "name": "stdout",
     "output_type": "stream",
     "text": [
      "Search accuracy: 77.75%\n",
      "LLM accuracy: 33.35%\n"
     ]
    }
   ],
   "source": [
    "print(\"Search accuracy: {:.2f}%\".format((results_df[\"correct_option\"].sum() / len(results_df))*100))\n",
    "print(\"LLM accuracy: {:.2f}%\".format((results_df[\"match\"].sum() / len(results_df))*100))"
   ]
  },
  {
   "cell_type": "code",
   "execution_count": 39,
   "metadata": {},
   "outputs": [],
   "source": [
    "results_df.to_csv(path_or_buf=\"results/rac_coicop2018_llama32-1b_{}.csv\".format(datetime.now().strftime(\"%Y-%m-%d_%H%M%S\")), index=False)"
   ]
  },
  {
   "cell_type": "markdown",
   "metadata": {},
   "source": [
    "## Deepseek"
   ]
  },
  {
   "cell_type": "code",
   "execution_count": 46,
   "metadata": {},
   "outputs": [],
   "source": [
    "config = OpenAIConfig(model=\"deepseek-r1:1.5b\", temperature=0)\n",
    "model = models.openai(llmclient, config)"
   ]
  },
  {
   "cell_type": "code",
   "execution_count": 47,
   "metadata": {},
   "outputs": [
    {
     "name": "stdout",
     "output_type": "stream",
     "text": [
      "Processing item 1 out of 4993\n",
      "Processing item 501 out of 4993\n",
      "Processing item 1001 out of 4993\n",
      "Processing item 1501 out of 4993\n",
      "Processing item 2001 out of 4993\n",
      "Processing item 2501 out of 4993\n",
      "Processing item 3001 out of 4993\n",
      "Processing item 3501 out of 4993\n",
      "Processing item 4001 out of 4993\n",
      "Processing item 4501 out of 4993\n",
      "CPU times: user 2h 33min 27s, sys: 1min 29s, total: 2h 34min 56s\n",
      "Wall time: 1h 17min 17s\n"
     ]
    }
   ],
   "source": [
    "%%time\n",
    "processed_items = []\n",
    "for i, item in enumerate(test_dict):\n",
    "    if i % 500 == 0:\n",
    "        print(f\"Processing item {i+1} out of {len(test_dict)}\")\n",
    "    search_result = client.query_points(\n",
    "        collection_name=\"coicop2018\",\n",
    "        query=encoder.encode(\"{} {}\".format(item[\"name\"], item[\"category\"])).tolist(),\n",
    "        limit=12\n",
    "    )\n",
    "\n",
    "    search_dict = {\n",
    "        p.payload.get(\"title\"): p.payload.get(\"code\")\n",
    "        for p in search_result.points\n",
    "    }\n",
    "    correct_option = item[\"code\"] in search_dict.values()\n",
    "    correct_n = list(search_dict.values()).count(item[\"code\"])\n",
    "    options = list(search_dict.keys()) + [\"none of the above\"]\n",
    "    generator = generate.choice(model, options)\n",
    "    res = generator(prompt_template.format(options=options, name=item[\"name\"], category=item[\"category\"]))\n",
    "    processed_items.append({**item, \"prediction\": search_dict.get(res), \"correct_option\": correct_option, \"correct_n\": correct_n})\n",
    "    "
   ]
  },
  {
   "cell_type": "code",
   "execution_count": 48,
   "metadata": {},
   "outputs": [],
   "source": [
    "results_df = pd.DataFrame(processed_items)"
   ]
  },
  {
   "cell_type": "code",
   "execution_count": 49,
   "metadata": {},
   "outputs": [],
   "source": [
    "results_df[\"match\"] = results_df[\"prediction\"] == results_df[\"code\"]"
   ]
  },
  {
   "cell_type": "code",
   "execution_count": 50,
   "metadata": {},
   "outputs": [
    {
     "name": "stdout",
     "output_type": "stream",
     "text": [
      "Search accuracy: 77.75%\n",
      "LLM accuracy: 2.44%\n"
     ]
    }
   ],
   "source": [
    "print(\"Search accuracy: {:.2f}%\".format((results_df[\"correct_option\"].sum() / len(results_df))*100))\n",
    "print(\"LLM accuracy: {:.2f}%\".format((results_df[\"match\"].sum() / len(results_df))*100))"
   ]
  },
  {
   "cell_type": "code",
   "execution_count": 51,
   "metadata": {},
   "outputs": [],
   "source": [
    "results_df.to_csv(path_or_buf=\"results/rac_coicop2018_deepseek-1_5b_{}.csv\".format(datetime.now().strftime(\"%Y-%m-%d_%H%M%S\")), index=False)"
   ]
  },
  {
   "cell_type": "code",
   "execution_count": null,
   "metadata": {},
   "outputs": [],
   "source": []
  }
 ],
 "metadata": {
  "kernelspec": {
   "display_name": ".venv",
   "language": "python",
   "name": "python3"
  },
  "language_info": {
   "codemirror_mode": {
    "name": "ipython",
    "version": 3
   },
   "file_extension": ".py",
   "mimetype": "text/x-python",
   "name": "python",
   "nbconvert_exporter": "python",
   "pygments_lexer": "ipython3",
   "version": "3.12.3"
  }
 },
 "nbformat": 4,
 "nbformat_minor": 2
}
