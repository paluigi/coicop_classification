{
 "cells": [
  {
   "cell_type": "markdown",
   "metadata": {},
   "source": [
    "# Structuring ECOICOP v1 information for classification"
   ]
  },
  {
   "cell_type": "markdown",
   "metadata": {},
   "source": [
    "The ECOICOP v1 classification contains unstructured information for its most detailed level of classification. This notebook leverages LLMs in order to structure this information in a format which can be used for similarity search."
   ]
  },
  {
   "cell_type": "code",
   "execution_count": null,
   "metadata": {},
   "outputs": [],
   "source": [
    "import os\n",
    "import time # Add delays because of free API rate limits\n",
    "from datetime import datetime\n",
    "import asyncio\n",
    "from typing import List\n",
    "\n",
    "import pandas as pd\n",
    "from ftfy import fix_text\n",
    "from unidecode import unidecode\n",
    "\n",
    "from beeai_framework.adapters.watsonx.backend.chat import WatsonxChatModel\n",
    "from pydantic import BaseModel, Field\n",
    "from beeai_framework.backend.message import UserMessage, SystemMessage\n",
    "\n",
    "from dotenv import dotenv_values"
   ]
  },
  {
   "cell_type": "code",
   "execution_count": null,
   "metadata": {},
   "outputs": [],
   "source": [
    "config = dotenv_values(\".env\")"
   ]
  },
  {
   "cell_type": "code",
   "execution_count": null,
   "metadata": {},
   "outputs": [],
   "source": [
    "class EcoicopDetails(BaseModel):\n",
    "    examples: List[str] = Field(description=\"List of products or services in the subclass.\")"
   ]
  },
  {
   "cell_type": "code",
   "execution_count": null,
   "metadata": {},
   "outputs": [],
   "source": [
    "usecols = [\"CODE\", \"NAME_EN\", \"LEVEL\", \"PARENT_CODE\", \"InclusionNote\", \"ExclusionNote\"]\n",
    "\n",
    "data_df = pd.read_csv(\n",
    "    filepath_or_buffer=\"ecoicop_v1/ECOICOP-HICP_Structure_Labels.tsv\", \n",
    "    sep=\"\\t\",\n",
    "    usecols=usecols,)"
   ]
  },
  {
   "cell_type": "code",
   "execution_count": null,
   "metadata": {},
   "outputs": [],
   "source": [
    "data_df = data_df.loc[data_df[\"LEVEL\"] == 4]"
   ]
  },
  {
   "cell_type": "code",
   "execution_count": null,
   "metadata": {},
   "outputs": [],
   "source": [
    "\n",
    "data_dict = data_df.to_dict(orient=\"records\")"
   ]
  },
  {
   "cell_type": "code",
   "execution_count": null,
   "metadata": {},
   "outputs": [],
   "source": [
    "system_prompt = \"\"\"ou are an expert data curator. When provided with a subclass name and its inclusion/exclusion description:\n",
    "\n",
    "1. Identify specific products/services that belong in this subclass based on the inclusion description. Use exclusions only to understand boundaries.\n",
    "\n",
    "2. Generate a list of specific product/service names that:\n",
    "   - Belong within the defined subclass\n",
    "   - Represent specific items, not categories\n",
    "   - Cover the full range of inclusions\n",
    "\n",
    "3. Make each name semantically unique by:\n",
    "   - Avoiding generic terms (\"other,\" \"miscellaneous\")\n",
    "   - Minimizing word overlap between entries\n",
    "   - Using varied terminology\n",
    "\n",
    "4. Output in the same language as input, preserving industry terminology.\n",
    "\n",
    "5. Format as a simple list of product/service names.\n",
    "\"\"\"\n",
    "\n",
    "subclass_prompt = \"\"\"Subclass title: {title}\n",
    "\n",
    "Inclusion note: {description}\n",
    "\n",
    "Exclusion note: {excludes}\n",
    "\"\"\""
   ]
  },
  {
   "cell_type": "code",
   "execution_count": null,
   "metadata": {},
   "outputs": [],
   "source": [
    "llm = WatsonxChatModel(\n",
    "    model_id=\"ibm/granite-3-8b-instruct\",\n",
    "    project_id=config.get(\"GRANITE_PROJECT\"),\n",
    "    api_key=config.get(\"GRANITE_API_KEY\"),\n",
    "    api_base=config.get(\"GRANITE_ENDPOINT\"),\n",
    ")"
   ]
  },
  {
   "cell_type": "code",
   "execution_count": null,
   "metadata": {},
   "outputs": [],
   "source": [
    "async def watson_structure(llm: WatsonxChatModel, system_prompt: str, subclass_prompt: str, item: dict) -> None:\n",
    "    system_message = SystemMessage(system_prompt)\n",
    "    user_message = UserMessage(subclass_prompt.format(\n",
    "        title=item.get(\"NAME_EN\"), \n",
    "        description=item.get(\"InclusionNote\"), \n",
    "        excludes=item.get(\"ExclusionNote\")))\n",
    "    response = await llm.create_structure(\n",
    "        {\n",
    "            \"schema\": EcoicopDetails,\n",
    "            \"messages\": [system_message, user_message],\n",
    "        }\n",
    "    )\n",
    "    return response.object"
   ]
  },
  {
   "cell_type": "code",
   "execution_count": null,
   "metadata": {},
   "outputs": [],
   "source": [
    "results = []\n",
    "failed_calls = []\n",
    "for i, item in enumerate(data_dict):\n",
    "    # Print every 20 items to show progress\n",
    "    if i % 20 == 0:\n",
    "        print(f\"Processing item {i+1} out of {len(data_dict)}\")\n",
    "    # Add switch to skip none items\n",
    "    if item.get(\"InclusionNote\") is None:\n",
    "        # No information to parse, just append existing item\n",
    "        results.append(item)\n",
    "        continue\n",
    "    # Time delay to respect API rate limits\n",
    "    time.sleep(0.5)\n",
    "    try:\n",
    "        agent_result = await watson_structure(llm, system_prompt, subclass_prompt, item)\n",
    "        # Add to results all examples, including the original class name...list concatenation\n",
    "        for ex in [item.get(\"NAME_EN\")] + agent_result.get(\"examples\"):\n",
    "            # the new \"Description\" is inserted at the end, so it overwrites the original one\n",
    "            results.append({**item, \"NAME_EN\": ex})\n",
    "    except Exception as e:\n",
    "        failed_calls.append(item)\n",
    "        print(f\"Error processing item {i+1} out of {len(data_dict)}\")\n",
    "        print(item)\n",
    "        print(e)\n",
    "        continue"
   ]
  },
  {
   "cell_type": "code",
   "execution_count": null,
   "metadata": {},
   "outputs": [],
   "source": [
    "results_df = pd.DataFrame(results)\n",
    "results_df.drop(columns=[\"InclusionNote\", \"LEVEL\", \"ExclusionNote\"]).to_csv(\n",
    "    \"results/ecoicop_v1_{}_{}.csv\".format(\n",
    "        \"ibm-granite-3-8b-instruct\",\n",
    "        datetime.now().strftime(\"%Y-%m-%d_%H%M%S\")),\n",
    "    index=False)"
   ]
  },
  {
   "cell_type": "code",
   "execution_count": null,
   "metadata": {},
   "outputs": [],
   "source": [
    "failed_df = pd.DataFrame(failed_calls)\n",
    "failed_df.to_csv(\n",
    "    \"results/failed_coicop2018_{}_{}.csv\".format(\n",
    "        \"ibm-granite-3-8b-instruct\",\n",
    "        datetime.now().strftime(\"%Y-%m-%d_%H%M%S\")),\n",
    "    index=False)"
   ]
  },
  {
   "cell_type": "code",
   "execution_count": null,
   "metadata": {},
   "outputs": [],
   "source": []
  }
 ],
 "metadata": {
  "kernelspec": {
   "display_name": ".venv",
   "language": "python",
   "name": "python3"
  },
  "language_info": {
   "codemirror_mode": {
    "name": "ipython",
    "version": 3
   },
   "file_extension": ".py",
   "mimetype": "text/x-python",
   "name": "python",
   "nbconvert_exporter": "python",
   "pygments_lexer": "ipython3",
   "version": "3.12.3"
  }
 },
 "nbformat": 4,
 "nbformat_minor": 2
}
