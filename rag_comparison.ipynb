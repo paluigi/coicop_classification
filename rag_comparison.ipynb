{
 "cells": [
  {
   "cell_type": "markdown",
   "metadata": {},
   "source": [
    "# RAG for COICOP 2018 classification"
   ]
  },
  {
   "cell_type": "markdown",
   "metadata": {},
   "source": [
    "This notebooks compares the performance of different LLMs for RAG oriented to classify products from web scraping into COICOP 2018 subclasses."
   ]
  },
  {
   "cell_type": "code",
   "execution_count": 13,
   "metadata": {},
   "outputs": [],
   "source": [
    "from datetime import datetime\n",
    "from collections import Counter\n",
    "import pandas as pd\n",
    "from qdrant_client import QdrantClient\n",
    "from outlines import models, generate\n",
    "from openai import AsyncOpenAI\n",
    "from outlines.models.openai import OpenAIConfig"
   ]
  },
  {
   "cell_type": "code",
   "execution_count": 18,
   "metadata": {},
   "outputs": [],
   "source": [
    "def count_value_occurrences(my_list):\n",
    "    \"\"\"Counts the occurrences of each value in a list and returns a dictionary.\n",
    "\n",
    "    Args:\n",
    "        my_list: The input list.\n",
    "\n",
    "    Returns:\n",
    "        A dictionary where keys are the unique values in the list (in the order they first appear)\n",
    "        and values are the number of times each value appears.\n",
    "    \"\"\"\n",
    "\n",
    "    # Use Counter for efficient counting:\n",
    "    value_counts = Counter(my_list)\n",
    "\n",
    "    # Preserve order of first appearance using a list comprehension:\n",
    "    ordered_keys = sorted(list(set(my_list)))\n",
    "    \n",
    "    # Create the ordered dictionary:\n",
    "    ordered_dict = {key: value_counts[key] for key in ordered_keys}\n",
    "\n",
    "    return ordered_dict"
   ]
  },
  {
   "cell_type": "markdown",
   "metadata": {},
   "source": [
    "## Load data"
   ]
  },
  {
   "cell_type": "code",
   "execution_count": 2,
   "metadata": {},
   "outputs": [],
   "source": [
    "grid_df = pd.read_csv(\"results/consolidated_coicop2018_20250210.csv\")\n",
    "test_df = pd.read_csv(\"manual_labels/manual_labels_coicop2018.csv\")"
   ]
  },
  {
   "cell_type": "code",
   "execution_count": 3,
   "metadata": {},
   "outputs": [],
   "source": [
    "test_dict = test_df.to_dict(orient=\"records\")\n",
    "grid_dict = grid_df.to_dict(orient=\"records\")"
   ]
  },
  {
   "cell_type": "code",
   "execution_count": 4,
   "metadata": {},
   "outputs": [],
   "source": [
    "grid = {}\n",
    "grid[\"docs\"] = [item.get(\"title\") for item in grid_dict]\n",
    "grid[\"metadata\"] = grid_dict\n",
    "grid[\"ids\"] = [item+1 for item in range(len(grid_dict))]"
   ]
  },
  {
   "cell_type": "markdown",
   "metadata": {},
   "source": [
    "Load data in Qdrant"
   ]
  },
  {
   "cell_type": "code",
   "execution_count": 5,
   "metadata": {},
   "outputs": [],
   "source": [
    "client = QdrantClient(\":memory:\")"
   ]
  },
  {
   "cell_type": "code",
   "execution_count": 6,
   "metadata": {},
   "outputs": [],
   "source": [
    "client.set_model(\"sentence-transformers/paraphrase-multilingual-mpnet-base-v2\")\n"
   ]
  },
  {
   "cell_type": "code",
   "execution_count": 7,
   "metadata": {},
   "outputs": [
    {
     "name": "stdout",
     "output_type": "stream",
     "text": [
      "CPU times: user 7min 39s, sys: 658 ms, total: 7min 39s\n",
      "Wall time: 57.6 s\n"
     ]
    }
   ],
   "source": [
    "%%time \n",
    "\n",
    "_ = client.add(\n",
    "    collection_name=\"coicop2018\",\n",
    "    documents=grid[\"docs\"],\n",
    "    metadata=grid[\"metadata\"],\n",
    "    ids=grid[\"ids\"]\n",
    ")"
   ]
  },
  {
   "cell_type": "markdown",
   "metadata": {},
   "source": [
    "# Search strategies"
   ]
  },
  {
   "cell_type": "markdown",
   "metadata": {},
   "source": [
    "### 6 results from product - category combination"
   ]
  },
  {
   "cell_type": "code",
   "execution_count": 8,
   "metadata": {},
   "outputs": [
    {
     "name": "stdout",
     "output_type": "stream",
     "text": [
      "Processing item 1 out of 4993\n",
      "Processing item 501 out of 4993\n",
      "Processing item 1001 out of 4993\n",
      "Processing item 1501 out of 4993\n",
      "Processing item 2001 out of 4993\n",
      "Processing item 2501 out of 4993\n",
      "Processing item 3001 out of 4993\n",
      "Processing item 3501 out of 4993\n",
      "Processing item 4001 out of 4993\n",
      "Processing item 4501 out of 4993\n",
      "Search accuracy: 64.97%\n"
     ]
    }
   ],
   "source": [
    "correct = 0\n",
    "n_correct_method1 = []\n",
    "for i, item in enumerate(test_dict):\n",
    "    if i % 500 == 0:\n",
    "        print(f\"Processing item {i+1} out of {len(test_dict)}\")\n",
    "    search_result = client.query(\n",
    "        collection_name=\"coicop2018\",\n",
    "        query_text=\"{} {}\".format(item[\"name\"], item[\"category\"]),\n",
    "        limit=6\n",
    "    )\n",
    "\n",
    "    search_dict = {\n",
    "        item.metadata.get(\"document\"): item.metadata.get(\"code\")\n",
    "        for item in search_result\n",
    "    }\n",
    "    if item[\"code\"] in search_dict.values():\n",
    "        correct += 1\n",
    "    n_correct_method1.append(list(search_dict.values()).count(item[\"code\"]))\n",
    "\n",
    "print(\"Search accuracy: {:.2f}%\".format((correct / len(test_dict))*100))"
   ]
  },
  {
   "cell_type": "code",
   "execution_count": 19,
   "metadata": {},
   "outputs": [
    {
     "data": {
      "text/plain": [
       "{0: 1749, 1: 680, 2: 582, 3: 679, 4: 388, 5: 334, 6: 581}"
      ]
     },
     "execution_count": 19,
     "metadata": {},
     "output_type": "execute_result"
    }
   ],
   "source": [
    "count_value_occurrences(n_correct_method1)"
   ]
  },
  {
   "cell_type": "markdown",
   "metadata": {},
   "source": [
    "### 12 results from product - category combination"
   ]
  },
  {
   "cell_type": "code",
   "execution_count": 9,
   "metadata": {},
   "outputs": [
    {
     "name": "stdout",
     "output_type": "stream",
     "text": [
      "Processing item 1 out of 4993\n",
      "Processing item 501 out of 4993\n",
      "Processing item 1001 out of 4993\n",
      "Processing item 1501 out of 4993\n",
      "Processing item 2001 out of 4993\n",
      "Processing item 2501 out of 4993\n",
      "Processing item 3001 out of 4993\n",
      "Processing item 3501 out of 4993\n",
      "Processing item 4001 out of 4993\n",
      "Processing item 4501 out of 4993\n",
      "Search accuracy: 74.34%\n"
     ]
    }
   ],
   "source": [
    "correct = 0\n",
    "n_correct_method2 = []\n",
    "for i, item in enumerate(test_dict):\n",
    "    if i % 500 == 0:\n",
    "        print(f\"Processing item {i+1} out of {len(test_dict)}\")\n",
    "    search_result = client.query(\n",
    "        collection_name=\"coicop2018\",\n",
    "        query_text=\"{} {}\".format(item[\"name\"], item[\"category\"]),\n",
    "        limit=12\n",
    "    )\n",
    "\n",
    "    search_dict = {\n",
    "        item.metadata.get(\"document\"): item.metadata.get(\"code\")\n",
    "        for item in search_result\n",
    "    }\n",
    "    if item[\"code\"] in search_dict.values():\n",
    "        correct += 1\n",
    "    n_correct_method2.append(list(search_dict.values()).count(item[\"code\"]))\n",
    "\n",
    "print(\"Search accuracy: {:.2f}%\".format((correct / len(test_dict))*100))"
   ]
  },
  {
   "cell_type": "code",
   "execution_count": 20,
   "metadata": {},
   "outputs": [
    {
     "data": {
      "text/plain": [
       "{0: 1281,\n",
       " 1: 673,\n",
       " 2: 482,\n",
       " 3: 617,\n",
       " 4: 409,\n",
       " 5: 329,\n",
       " 6: 208,\n",
       " 7: 152,\n",
       " 8: 143,\n",
       " 9: 257,\n",
       " 10: 263,\n",
       " 11: 124,\n",
       " 12: 55}"
      ]
     },
     "execution_count": 20,
     "metadata": {},
     "output_type": "execute_result"
    }
   ],
   "source": [
    "count_value_occurrences(n_correct_method2)"
   ]
  },
  {
   "cell_type": "markdown",
   "metadata": {},
   "source": [
    "### 6 results from category - product combination"
   ]
  },
  {
   "cell_type": "code",
   "execution_count": 10,
   "metadata": {},
   "outputs": [
    {
     "name": "stdout",
     "output_type": "stream",
     "text": [
      "Processing item 1 out of 4993\n",
      "Processing item 501 out of 4993\n",
      "Processing item 1001 out of 4993\n",
      "Processing item 1501 out of 4993\n",
      "Processing item 2001 out of 4993\n",
      "Processing item 2501 out of 4993\n",
      "Processing item 3001 out of 4993\n",
      "Processing item 3501 out of 4993\n",
      "Processing item 4001 out of 4993\n",
      "Processing item 4501 out of 4993\n",
      "Search accuracy: 63.91%\n"
     ]
    }
   ],
   "source": [
    "correct = 0\n",
    "n_correct_method3 = []\n",
    "\n",
    "for i, item in enumerate(test_dict):\n",
    "    if i % 500 == 0:\n",
    "        print(f\"Processing item {i+1} out of {len(test_dict)}\")\n",
    "    search_result = client.query(\n",
    "        collection_name=\"coicop2018\",\n",
    "        query_text=\"{} {}\".format(item[\"category\"], item[\"name\"]),\n",
    "        limit=6\n",
    "    )\n",
    "\n",
    "    search_dict = {\n",
    "        item.metadata.get(\"document\"): item.metadata.get(\"code\")\n",
    "        for item in search_result\n",
    "    }\n",
    "    if item[\"code\"] in search_dict.values():\n",
    "        correct += 1\n",
    "    n_correct_method3.append(list(search_dict.values()).count(item[\"code\"]))\n",
    "\n",
    "print(\"Search accuracy: {:.2f}%\".format((correct / len(test_dict))*100))"
   ]
  },
  {
   "cell_type": "code",
   "execution_count": 21,
   "metadata": {},
   "outputs": [
    {
     "data": {
      "text/plain": [
       "{0: 1802, 1: 651, 2: 571, 3: 664, 4: 355, 5: 346, 6: 604}"
      ]
     },
     "execution_count": 21,
     "metadata": {},
     "output_type": "execute_result"
    }
   ],
   "source": [
    "count_value_occurrences(n_correct_method3)"
   ]
  },
  {
   "cell_type": "markdown",
   "metadata": {},
   "source": [
    "### 12 results from  category - product combination"
   ]
  },
  {
   "cell_type": "code",
   "execution_count": 11,
   "metadata": {},
   "outputs": [
    {
     "name": "stdout",
     "output_type": "stream",
     "text": [
      "Processing item 1 out of 4993\n",
      "Processing item 501 out of 4993\n",
      "Processing item 1001 out of 4993\n",
      "Processing item 1501 out of 4993\n",
      "Processing item 2001 out of 4993\n",
      "Processing item 2501 out of 4993\n",
      "Processing item 3001 out of 4993\n",
      "Processing item 3501 out of 4993\n",
      "Processing item 4001 out of 4993\n",
      "Processing item 4501 out of 4993\n",
      "Search accuracy: 74.38%\n"
     ]
    }
   ],
   "source": [
    "correct = 0\n",
    "n_correct_method4 = []\n",
    "\n",
    "for i, item in enumerate(test_dict):\n",
    "    if i % 500 == 0:\n",
    "        print(f\"Processing item {i+1} out of {len(test_dict)}\")\n",
    "    search_result = client.query(\n",
    "        collection_name=\"coicop2018\",\n",
    "        query_text=\"{} {}\".format(item[\"category\"], item[\"name\"]),\n",
    "        limit=12\n",
    "    )\n",
    "\n",
    "    search_dict = {\n",
    "        item.metadata.get(\"document\"): item.metadata.get(\"code\")\n",
    "        for item in search_result\n",
    "    }\n",
    "    if item[\"code\"] in search_dict.values():\n",
    "        correct += 1\n",
    "    n_correct_method4.append(list(search_dict.values()).count(item[\"code\"]))\n",
    "\n",
    "print(\"Search accuracy: {:.2f}%\".format((correct / len(test_dict))*100))"
   ]
  },
  {
   "cell_type": "code",
   "execution_count": 22,
   "metadata": {},
   "outputs": [
    {
     "data": {
      "text/plain": [
       "{0: 1279,\n",
       " 1: 681,\n",
       " 2: 493,\n",
       " 3: 607,\n",
       " 4: 394,\n",
       " 5: 305,\n",
       " 6: 237,\n",
       " 7: 164,\n",
       " 8: 161,\n",
       " 9: 240,\n",
       " 10: 230,\n",
       " 11: 149,\n",
       " 12: 53}"
      ]
     },
     "execution_count": 22,
     "metadata": {},
     "output_type": "execute_result"
    }
   ],
   "source": [
    "count_value_occurrences(n_correct_method4)"
   ]
  },
  {
   "cell_type": "markdown",
   "metadata": {},
   "source": [
    "### 6 results from category  and 6 from product"
   ]
  },
  {
   "cell_type": "code",
   "execution_count": 12,
   "metadata": {},
   "outputs": [
    {
     "name": "stdout",
     "output_type": "stream",
     "text": [
      "Processing item 1 out of 4993\n",
      "Processing item 501 out of 4993\n",
      "Processing item 1001 out of 4993\n",
      "Processing item 1501 out of 4993\n",
      "Processing item 2001 out of 4993\n",
      "Processing item 2501 out of 4993\n",
      "Processing item 3001 out of 4993\n",
      "Processing item 3501 out of 4993\n",
      "Processing item 4001 out of 4993\n",
      "Processing item 4501 out of 4993\n",
      "Search accuracy: 64.41%\n"
     ]
    }
   ],
   "source": [
    "correct = 0\n",
    "n_correct_method5 = []\n",
    "\n",
    "for i, item in enumerate(test_dict):\n",
    "    if i % 500 == 0:\n",
    "        print(f\"Processing item {i+1} out of {len(test_dict)}\")\n",
    "    search_result = client.query(\n",
    "        collection_name=\"coicop2018\",\n",
    "        query_text=\"{}\".format(item[\"name\"]),\n",
    "        limit=6\n",
    "    )\n",
    "\n",
    "    search_dict = {\n",
    "        item.metadata.get(\"document\"): item.metadata.get(\"code\")\n",
    "        for item in search_result\n",
    "    }\n",
    "\n",
    "    search_result2 = client.query(\n",
    "        collection_name=\"coicop2018\",\n",
    "        query_text=\"{}\".format(item[\"category\"]),\n",
    "        limit=6\n",
    "    )\n",
    "\n",
    "    search_dict2 = {\n",
    "        item.metadata.get(\"document\"): item.metadata.get(\"code\")\n",
    "        for item in search_result2\n",
    "    }\n",
    "\n",
    "    search_dict.update(search_dict2)\n",
    "\n",
    "    if item[\"code\"] in search_dict.values():\n",
    "        correct += 1\n",
    "    n_correct_method5.append(list(search_dict.values()).count(item[\"code\"]))\n",
    "\n",
    "print(\"Search accuracy: {:.2f}%\".format((correct / len(test_dict))*100))"
   ]
  },
  {
   "cell_type": "code",
   "execution_count": 23,
   "metadata": {},
   "outputs": [
    {
     "data": {
      "text/plain": [
       "{0: 1777,\n",
       " 1: 535,\n",
       " 2: 501,\n",
       " 3: 584,\n",
       " 4: 381,\n",
       " 5: 279,\n",
       " 6: 589,\n",
       " 7: 171,\n",
       " 8: 142,\n",
       " 9: 28,\n",
       " 10: 6}"
      ]
     },
     "execution_count": 23,
     "metadata": {},
     "output_type": "execute_result"
    }
   ],
   "source": [
    "count_value_occurrences(n_correct_method5)"
   ]
  },
  {
   "cell_type": "markdown",
   "metadata": {},
   "source": [
    "LLM template, including 12 search examples"
   ]
  },
  {
   "cell_type": "code",
   "execution_count": 24,
   "metadata": {},
   "outputs": [],
   "source": [
    "prompt_template = \"\"\"You are an expert data curator. You are given a product name and the commercial category where it belongs.\n",
    "Your task is to classify the product into the most likely type from the following options:\n",
    "1. {options[0]}\n",
    "2. {options[1]}\n",
    "3. {options[2]}\n",
    "4. {options[3]}\n",
    "5. {options[4]}\n",
    "6. {options[5]}\n",
    "7. {options[6]}\n",
    "8. {options[7]}\n",
    "9. {options[8]}\n",
    "10. {options[9]}\n",
    "11. {options[10]}\n",
    "12. {options[11]}\n",
    "13. none of the above\n",
    "\n",
    "Your output should only be the exact text of one of the options above, and nothing else.\n",
    "\n",
    "The product name is: {name}\n",
    "The commercial category is: {category}\n",
    "The correct type is:\"\"\""
   ]
  },
  {
   "cell_type": "markdown",
   "metadata": {},
   "source": [
    "## SmolLM2"
   ]
  },
  {
   "cell_type": "code",
   "execution_count": 25,
   "metadata": {},
   "outputs": [],
   "source": [
    "model = models.transformers(\n",
    "    \"HuggingFaceTB/SmolLM2-135M-Instruct\",\n",
    "    device=\"cuda\",\n",
    "    model_kwargs={\"temperature\": 0, \"do_sample\": True}\n",
    "    )"
   ]
  },
  {
   "cell_type": "code",
   "execution_count": 26,
   "metadata": {},
   "outputs": [
    {
     "name": "stdout",
     "output_type": "stream",
     "text": [
      "Processing item 1 out of 4993\n",
      "Processing item 501 out of 4993\n",
      "Processing item 1001 out of 4993\n",
      "Processing item 1501 out of 4993\n",
      "Processing item 2001 out of 4993\n"
     ]
    },
    {
     "ename": "IndexError",
     "evalue": "list index out of range",
     "output_type": "error",
     "traceback": [
      "\u001b[0;31m---------------------------------------------------------------------------\u001b[0m",
      "\u001b[0;31mIndexError\u001b[0m                                Traceback (most recent call last)",
      "File \u001b[0;32m<timed exec>:19\u001b[0m\n",
      "\u001b[0;31mIndexError\u001b[0m: list index out of range"
     ]
    }
   ],
   "source": [
    "%%time\n",
    "processed_items = []\n",
    "for i, item in enumerate(test_dict):\n",
    "    if i % 500 == 0:\n",
    "        print(f\"Processing item {i+1} out of {len(test_dict)}\")\n",
    "    search_result = client.query(\n",
    "        collection_name=\"coicop2018\",\n",
    "        query_text=\"{} {}\".format(item[\"category\"], item[\"name\"]),\n",
    "        limit=12\n",
    "    )\n",
    "\n",
    "    search_dict = {\n",
    "        item.metadata.get(\"document\"): item.metadata.get(\"code\")\n",
    "        for item in search_result\n",
    "    }\n",
    "    correct_option = item[\"code\"] in search_dict.values()\n",
    "    correct_n = list(search_dict.values()).count(item[\"code\"])\n",
    "    options = list(search_dict.keys()) + [\"none of the above\"]\n",
    "    generator = generate.choice(model, options)\n",
    "    res = generator(prompt_template.format(options=options, name=item[\"name\"], category=item[\"category\"]))\n",
    "    processed_items.append({**item, \"prediction\": search_dict.get(res), \"correct_option\": correct_option, \"correct_n\": correct_n})\n",
    "    "
   ]
  },
  {
   "cell_type": "code",
   "execution_count": 27,
   "metadata": {},
   "outputs": [],
   "source": [
    "results_df = pd.DataFrame(processed_items)"
   ]
  },
  {
   "cell_type": "code",
   "execution_count": 28,
   "metadata": {},
   "outputs": [],
   "source": [
    "results_df[\"match\"] = results_df[\"prediction\"] == results_df[\"code\"]"
   ]
  },
  {
   "cell_type": "code",
   "execution_count": 29,
   "metadata": {},
   "outputs": [
    {
     "name": "stdout",
     "output_type": "stream",
     "text": [
      "Search accuracy: 83.02%\n",
      "LLM accuracy: 29.78%\n"
     ]
    }
   ],
   "source": [
    "print(\"Search accuracy: {:.2f}%\".format((results_df[\"correct_option\"].sum() / len(results_df))*100))\n",
    "print(\"LLM accuracy: {:.2f}%\".format((results_df[\"match\"].sum() / len(results_df))*100))"
   ]
  },
  {
   "cell_type": "code",
   "execution_count": 30,
   "metadata": {},
   "outputs": [],
   "source": [
    "results_df.to_csv(\"results/rag_results_smollm2_{}.csv\".format(datetime.now().strftime(\"%Y-%m-%d_%H%M%S\")), index=False)"
   ]
  },
  {
   "cell_type": "markdown",
   "metadata": {},
   "source": [
    "## Qwen 2.5 "
   ]
  },
  {
   "cell_type": "code",
   "execution_count": 31,
   "metadata": {},
   "outputs": [],
   "source": [
    "llmclient = AsyncOpenAI(\n",
    "    api_key=\"none\",\n",
    "    base_url='http://localhost:11434/v1/',\n",
    ")\n",
    "config = OpenAIConfig(model=\"qwen2.5:1.5b-instruct\", temperature=0)\n",
    "model = models.openai(llmclient, config)"
   ]
  },
  {
   "cell_type": "code",
   "execution_count": 32,
   "metadata": {},
   "outputs": [
    {
     "name": "stdout",
     "output_type": "stream",
     "text": [
      "Processing item 1 out of 4993\n",
      "Processing item 501 out of 4993\n",
      "Processing item 1001 out of 4993\n",
      "Processing item 1501 out of 4993\n",
      "Processing item 2001 out of 4993\n"
     ]
    },
    {
     "ename": "IndexError",
     "evalue": "list index out of range",
     "output_type": "error",
     "traceback": [
      "\u001b[0;31m---------------------------------------------------------------------------\u001b[0m",
      "\u001b[0;31mIndexError\u001b[0m                                Traceback (most recent call last)",
      "File \u001b[0;32m<timed exec>:19\u001b[0m\n",
      "\u001b[0;31mIndexError\u001b[0m: list index out of range"
     ]
    }
   ],
   "source": [
    "%%time\n",
    "processed_items = []\n",
    "for i, item in enumerate(test_dict):\n",
    "    if i % 500 == 0:\n",
    "        print(f\"Processing item {i+1} out of {len(test_dict)}\")\n",
    "    search_result = client.query(\n",
    "        collection_name=\"coicop2018\",\n",
    "        query_text=\"{} {}\".format(item[\"category\"], item[\"name\"]),\n",
    "        limit=12\n",
    "    )\n",
    "\n",
    "    search_dict = {\n",
    "        item.metadata.get(\"document\"): item.metadata.get(\"code\")\n",
    "        for item in search_result\n",
    "    }\n",
    "    correct_option = item[\"code\"] in search_dict.values()\n",
    "    correct_n = list(search_dict.values()).count(item[\"code\"])\n",
    "    options = list(search_dict.keys()) + [\"none of the above\"]\n",
    "    generator = generate.choice(model, options)\n",
    "    res = generator(prompt_template.format(options=options, name=item[\"name\"], category=item[\"category\"]))\n",
    "    processed_items.append({**item, \"prediction\": search_dict.get(res), \"correct_option\": correct_option, \"correct_n\": correct_n})\n",
    "    "
   ]
  },
  {
   "cell_type": "code",
   "execution_count": 33,
   "metadata": {},
   "outputs": [],
   "source": [
    "results_df = pd.DataFrame(processed_items)"
   ]
  },
  {
   "cell_type": "code",
   "execution_count": 34,
   "metadata": {},
   "outputs": [],
   "source": [
    "results_df[\"match\"] = results_df[\"prediction\"] == results_df[\"code\"]"
   ]
  },
  {
   "cell_type": "code",
   "execution_count": 35,
   "metadata": {},
   "outputs": [
    {
     "name": "stdout",
     "output_type": "stream",
     "text": [
      "Search accuracy: 83.02%\n",
      "LLM accuracy: 53.83%\n"
     ]
    }
   ],
   "source": [
    "print(\"Search accuracy: {:.2f}%\".format((results_df[\"correct_option\"].sum() / len(results_df))*100))\n",
    "print(\"LLM accuracy: {:.2f}%\".format((results_df[\"match\"].sum() / len(results_df))*100))"
   ]
  },
  {
   "cell_type": "code",
   "execution_count": 36,
   "metadata": {},
   "outputs": [],
   "source": [
    "results_df.to_csv(\"results/rag_results_qwen25_{}.csv\".format(datetime.now().strftime(\"%Y-%m-%d_%H%M%S\")), index=False)"
   ]
  },
  {
   "cell_type": "markdown",
   "metadata": {},
   "source": [
    "## LLama 3.2"
   ]
  },
  {
   "cell_type": "code",
   "execution_count": 37,
   "metadata": {},
   "outputs": [],
   "source": [
    "config = OpenAIConfig(model=\"llama3.2:1b\", temperature=0)\n",
    "model = models.openai(llmclient, config)"
   ]
  },
  {
   "cell_type": "code",
   "execution_count": null,
   "metadata": {},
   "outputs": [
    {
     "name": "stdout",
     "output_type": "stream",
     "text": [
      "Processing item 1 out of 4993\n",
      "Processing item 501 out of 4993\n",
      "Processing item 1001 out of 4993\n",
      "Processing item 1501 out of 4993\n"
     ]
    }
   ],
   "source": [
    "%%time\n",
    "processed_items = []\n",
    "for i, item in enumerate(test_dict):\n",
    "    if i % 500 == 0:\n",
    "        print(f\"Processing item {i+1} out of {len(test_dict)}\")\n",
    "    search_result = client.query(\n",
    "        collection_name=\"coicop2018\",\n",
    "        query_text=\"{} {}\".format(item[\"category\"], item[\"name\"]),\n",
    "        limit=12\n",
    "    )\n",
    "\n",
    "    search_dict = {\n",
    "        item.metadata.get(\"document\"): item.metadata.get(\"code\")\n",
    "        for item in search_result\n",
    "    }\n",
    "    correct_option = item[\"code\"] in search_dict.values()\n",
    "    correct_n = list(search_dict.values()).count(item[\"code\"])\n",
    "    options = list(search_dict.keys()) + [\"none of the above\"]\n",
    "    generator = generate.choice(model, options)\n",
    "    res = generator(prompt_template.format(options=options, name=item[\"name\"], category=item[\"category\"]))\n",
    "    processed_items.append({**item, \"prediction\": search_dict.get(res), \"correct_option\": correct_option, \"correct_n\": correct_n})\n",
    "    "
   ]
  },
  {
   "cell_type": "code",
   "execution_count": null,
   "metadata": {},
   "outputs": [],
   "source": [
    "results_df = pd.DataFrame(processed_items)"
   ]
  },
  {
   "cell_type": "code",
   "execution_count": null,
   "metadata": {},
   "outputs": [],
   "source": [
    "results_df[\"match\"] = results_df[\"prediction\"] == results_df[\"code\"]"
   ]
  },
  {
   "cell_type": "code",
   "execution_count": null,
   "metadata": {},
   "outputs": [],
   "source": [
    "print(\"Search accuracy: {:.2f}%\".format((results_df[\"correct_option\"].sum() / len(results_df))*100))\n",
    "print(\"LLM accuracy: {:.2f}%\".format((results_df[\"match\"].sum() / len(results_df))*100))"
   ]
  },
  {
   "cell_type": "code",
   "execution_count": null,
   "metadata": {},
   "outputs": [],
   "source": [
    "results_df.to_csv(path_or_buf=\"results/rag_results_llama32_{}.csv\".format(datetime.now().strftime(\"%Y-%m-%d_%H%M%S\")), index=False)"
   ]
  },
  {
   "cell_type": "code",
   "execution_count": null,
   "metadata": {},
   "outputs": [],
   "source": []
  }
 ],
 "metadata": {
  "kernelspec": {
   "display_name": ".venv",
   "language": "python",
   "name": "python3"
  },
  "language_info": {
   "codemirror_mode": {
    "name": "ipython",
    "version": 3
   },
   "file_extension": ".py",
   "mimetype": "text/x-python",
   "name": "python",
   "nbconvert_exporter": "python",
   "pygments_lexer": "ipython3",
   "version": "3.12.3"
  }
 },
 "nbformat": 4,
 "nbformat_minor": 2
}
