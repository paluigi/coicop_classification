{
 "cells": [
  {
   "cell_type": "markdown",
   "metadata": {},
   "source": [
    "# Structuring ECOICOP information for classification"
   ]
  },
  {
   "cell_type": "markdown",
   "metadata": {},
   "source": [
    "The ECOICOP classification contains unstructured information for its most detailed level of classification. This notebook leverages LLMs in order to structure this information in a format which can be used for similarity search."
   ]
  },
  {
   "cell_type": "code",
   "execution_count": 1,
   "metadata": {},
   "outputs": [],
   "source": [
    "import time # Add delays because of free API rate limits\n",
    "from datetime import datetime\n",
    "\n",
    "import pandas as pd\n",
    "\n",
    "from typing import List\n",
    "from pydantic import BaseModel\n",
    "from pydantic_ai import Agent\n",
    "from pydantic_ai.models.mistral import MistralModel\n",
    "#from pydantic_ai.models.groq import GroqModel\n",
    "\n",
    "from dotenv import dotenv_values"
   ]
  },
  {
   "cell_type": "code",
   "execution_count": 2,
   "metadata": {},
   "outputs": [],
   "source": [
    "import nest_asyncio # Fix issues with Jupyter notebook event loop\n",
    "nest_asyncio.apply()"
   ]
  },
  {
   "cell_type": "markdown",
   "metadata": {},
   "source": [
    "Import environment variables with API keys"
   ]
  },
  {
   "cell_type": "code",
   "execution_count": 3,
   "metadata": {},
   "outputs": [],
   "source": [
    "config = dotenv_values(\".env\")"
   ]
  },
  {
   "cell_type": "markdown",
   "metadata": {},
   "source": [
    "Define the Pydantic model for parsing the additional information in each ECOICOP level 4"
   ]
  },
  {
   "cell_type": "code",
   "execution_count": 4,
   "metadata": {},
   "outputs": [],
   "source": [
    "class EcoicopDetails(BaseModel):\n",
    "    examples: List[str]"
   ]
  },
  {
   "cell_type": "markdown",
   "metadata": {},
   "source": [
    "Initialize PydanticAI agent to structure information"
   ]
  },
  {
   "cell_type": "code",
   "execution_count": 5,
   "metadata": {},
   "outputs": [],
   "source": [
    "model = MistralModel('mistral-large-latest', api_key=config.get(\"MISTRAL_API_KEY\"))\n",
    "agent = Agent(\n",
    "    model=model,\n",
    "    retries=3,\n",
    "    result_type=EcoicopDetails,\n",
    "    system_prompt=(\n",
    "        'You are an expert data curator. You will receive a string of text '\n",
    "        'with examples of items to be included into a certain classification. '\n",
    "        'Your task is to transform this text into a list of self-explainig '\n",
    "        'items descriptions, exploding the examples to the most granular level you can '\n",
    "        'identify in the text. '\n",
    "        'Each item description should contain all necessary information for classification '\n",
    "        'as provided in the original text. Prefer complete descriptions rather than single words.'\n",
    "        ),\n",
    ")"
   ]
  },
  {
   "cell_type": "markdown",
   "metadata": {},
   "source": [
    "Read ECOICOP definitions (only selected columns)"
   ]
  },
  {
   "cell_type": "code",
   "execution_count": 6,
   "metadata": {},
   "outputs": [],
   "source": [
    "usecols = [\"CODE\", \"NAME_EN\", \"LEVEL\", \"PARENT_CODE\", \"InclusionNote\"]\n",
    "\n",
    "data_df = pd.read_csv(\n",
    "    filepath_or_buffer=\"ecoicop_v1/ECOICOP-HICP_Structure_Labels.tsv\", \n",
    "    sep=\"\\t\",\n",
    "    usecols=usecols,)"
   ]
  },
  {
   "cell_type": "markdown",
   "metadata": {},
   "source": [
    "Filter only level 4 items"
   ]
  },
  {
   "cell_type": "code",
   "execution_count": 8,
   "metadata": {},
   "outputs": [],
   "source": [
    "data_df = data_df.loc[data_df[\"LEVEL\"] == 4]"
   ]
  },
  {
   "cell_type": "code",
   "execution_count": 11,
   "metadata": {},
   "outputs": [],
   "source": [
    "data_dict = data_df.to_dict(orient=\"records\")"
   ]
  },
  {
   "cell_type": "markdown",
   "metadata": {},
   "source": [
    "Run calls to the Agent to extract and format information"
   ]
  },
  {
   "cell_type": "code",
   "execution_count": null,
   "metadata": {},
   "outputs": [
    {
     "name": "stdout",
     "output_type": "stream",
     "text": [
      "Processing item 1 out of 295\n",
      "Processing item 2 out of 295\n",
      "Processing item 3 out of 295\n",
      "Processing item 4 out of 295\n",
      "Processing item 5 out of 295\n",
      "Processing item 6 out of 295\n",
      "Processing item 7 out of 295\n",
      "Processing item 8 out of 295\n",
      "Processing item 9 out of 295\n",
      "Processing item 10 out of 295\n",
      "Processing item 11 out of 295\n",
      "Processing item 12 out of 295\n",
      "Processing item 13 out of 295\n",
      "Processing item 14 out of 295\n",
      "Processing item 15 out of 295\n",
      "Processing item 16 out of 295\n",
      "Processing item 17 out of 295\n",
      "Processing item 18 out of 295\n",
      "Processing item 19 out of 295\n",
      "Processing item 20 out of 295\n",
      "Processing item 21 out of 295\n",
      "Processing item 22 out of 295\n",
      "Processing item 23 out of 295\n",
      "Processing item 24 out of 295\n",
      "Processing item 25 out of 295\n",
      "Processing item 26 out of 295\n",
      "Processing item 27 out of 295\n",
      "Processing item 28 out of 295\n",
      "Processing item 29 out of 295\n",
      "Processing item 30 out of 295\n",
      "Processing item 31 out of 295\n",
      "Processing item 32 out of 295\n",
      "Processing item 33 out of 295\n"
     ]
    }
   ],
   "source": [
    "results = []\n",
    "failed_calls = []\n",
    "for i, item in enumerate(data_dict):\n",
    "    print(f\"Processing item {i+1} out of {len(data_dict)}\")\n",
    "    # Time delay to respect API rate limits\n",
    "    time.sleep(3)\n",
    "    try:\n",
    "        agent_result = agent.run_sync(item.get(\"InclusionNote\"), model_settings={'temperature': 0.0})\n",
    "        # Add to results all examples, including the original class name...list concatenation\n",
    "        for ex in [item.get(\"NAME_EN\")] + agent_result.data.model_dump().get(\"examples\"):\n",
    "            # the new \"NAME_EN\" is inserted at the end, so it overwrites the original one\n",
    "            results.append({**item, \"NAME_EN\": ex})\n",
    "    except Exception as e:\n",
    "        failed_calls.append(item)\n",
    "        print(e)\n",
    "        continue"
   ]
  },
  {
   "cell_type": "markdown",
   "metadata": {},
   "source": [
    "Save results and failed calls"
   ]
  },
  {
   "cell_type": "code",
   "execution_count": 22,
   "metadata": {},
   "outputs": [],
   "source": [
    "results_df = pd.DataFrame(results)\n",
    "results_df.drop(columns=[\"InclusionNote\", \"LEVEL\"]).to_csv(\n",
    "    \"results/ecoicop_v1_{}.csv\".format(datetime.now().strftime(\"%Y-%m-%d\")),\n",
    "    index=False)"
   ]
  },
  {
   "cell_type": "code",
   "execution_count": null,
   "metadata": {},
   "outputs": [],
   "source": [
    "failed_df = pd.DataFrame(failed_calls)\n",
    "failed_df.to_csv(\n",
    "    filepath_or_buf=\"results/failed_ecoicop_v1_{}.csv\".format(datetime.now().strftime(\"%Y-%m-%d\")),\n",
    "    index=False)"
   ]
  },
  {
   "cell_type": "code",
   "execution_count": null,
   "metadata": {},
   "outputs": [],
   "source": []
  },
  {
   "cell_type": "code",
   "execution_count": null,
   "metadata": {},
   "outputs": [],
   "source": []
  }
 ],
 "metadata": {
  "kernelspec": {
   "display_name": ".venv",
   "language": "python",
   "name": "python3"
  },
  "language_info": {
   "codemirror_mode": {
    "name": "ipython",
    "version": 3
   },
   "file_extension": ".py",
   "mimetype": "text/x-python",
   "name": "python",
   "nbconvert_exporter": "python",
   "pygments_lexer": "ipython3",
   "version": "3.12.3"
  }
 },
 "nbformat": 4,
 "nbformat_minor": 2
}
